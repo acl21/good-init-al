{
 "cells": [
  {
   "cell_type": "markdown",
   "id": "stable-island",
   "metadata": {},
   "source": [
    "### Set GPU"
   ]
  },
  {
   "cell_type": "code",
   "execution_count": 1,
   "id": "cutting-subcommittee",
   "metadata": {},
   "outputs": [],
   "source": [
    "import os\n",
    "os.environ['CUDA_VISIBLE_DEVICES'] = \"2\""
   ]
  },
  {
   "cell_type": "markdown",
   "id": "australian-origin",
   "metadata": {},
   "source": [
    "### Set Dataset"
   ]
  },
  {
   "cell_type": "code",
   "execution_count": 3,
   "id": "limiting-qualification",
   "metadata": {},
   "outputs": [],
   "source": [
    "# dataset_name = 'CIFAR10'\n",
    "# dataset_name = 'CIFAR100'\n",
    "# dataset_name = 'MNIST'\n",
    "# dataset_name = 'TINYIMAGENET'\n",
    "dataset_name = 'IMBALANCED_CIFAR10'"
   ]
  },
  {
   "cell_type": "markdown",
   "id": "equipped-discount",
   "metadata": {},
   "source": [
    "### Num Classes"
   ]
  },
  {
   "cell_type": "code",
   "execution_count": 4,
   "id": "inside-health",
   "metadata": {},
   "outputs": [],
   "source": [
    "num_clusters = 10\n",
    "# num_clusters = 20\n",
    "# num_clusters = 200"
   ]
  },
  {
   "cell_type": "markdown",
   "id": "hundred-naples",
   "metadata": {},
   "source": [
    "### Run All "
   ]
  },
  {
   "cell_type": "code",
   "execution_count": 8,
   "id": "viral-watershed",
   "metadata": {},
   "outputs": [],
   "source": [
    "output_folder = '../results/'\n",
    "if dataset_name == \"CIFAR10\":\n",
    "    output_folder += 'cifar-10/'\n",
    "elif dataset_name == \"CIFAR100\":\n",
    "    output_folder += 'cifar-20/'\n",
    "elif dataset_name == \"MNIST\":\n",
    "    output_folder += 'mnist/'\n",
    "elif dataset_name == \"TINYIMAGENET\":\n",
    "    output_folder += 'tinyimagenet/'\n",
    "elif dataset_name == 'IMBALANCED_CIFAR10':\n",
    "    output_folder += 'imbalanced-cifar-10/'\n",
    "\n",
    "path_to_feat = f'{output_folder}/{dataset_name}_features128.npy'"
   ]
  },
  {
   "cell_type": "code",
   "execution_count": 9,
   "id": "outdoor-smile",
   "metadata": {},
   "outputs": [],
   "source": [
    "import torch\n",
    "import numpy as np\n",
    "from kmeans.kmeans_pytorch import kmeans"
   ]
  },
  {
   "cell_type": "code",
   "execution_count": 10,
   "id": "behavioral-astrology",
   "metadata": {},
   "outputs": [],
   "source": [
    "# data\n",
    "x = np.load(path_to_feat)\n",
    "x = torch.from_numpy(x)"
   ]
  },
  {
   "cell_type": "markdown",
   "id": "residential-album",
   "metadata": {},
   "source": [
    "## CPU (When memory isn't enough)"
   ]
  },
  {
   "cell_type": "code",
   "execution_count": 16,
   "id": "genetic-flush",
   "metadata": {},
   "outputs": [],
   "source": [
    "# from sklearn.cluster import KMeans\n",
    "\n",
    "# kmeans = KMeans(n_clusters=num_clusters, random_state=0).fit(x)\n",
    "# cluster_ids_x = torch.tensor(kmeans.labels_)"
   ]
  },
  {
   "cell_type": "markdown",
   "id": "planned-boxing",
   "metadata": {},
   "source": [
    "## GPU"
   ]
  },
  {
   "cell_type": "code",
   "execution_count": 11,
   "id": "norwegian-generic",
   "metadata": {},
   "outputs": [
    {
     "name": "stdout",
     "output_type": "stream",
     "text": [
      "running k-means on cuda:0..\n"
     ]
    },
    {
     "name": "stderr",
     "output_type": "stream",
     "text": [
      "[running kmeans]: 139it [00:00, 243.86it/s, center_shift=0.000067, iteration=140, tol=0.000100]"
     ]
    }
   ],
   "source": [
    "# kmeans\n",
    "cluster_ids_x, cluster_centers = kmeans(\n",
    "    X=x, num_clusters=num_clusters, distance='euclidean', device=torch.device('cuda:0'))"
   ]
  },
  {
   "cell_type": "code",
   "execution_count": 12,
   "id": "clear-backing",
   "metadata": {},
   "outputs": [
    {
     "data": {
      "text/plain": [
       "torch.Size([13996])"
      ]
     },
     "execution_count": 12,
     "metadata": {},
     "output_type": "execute_result"
    }
   ],
   "source": [
    "cluster_ids_x.shape"
   ]
  },
  {
   "cell_type": "code",
   "execution_count": 13,
   "id": "marine-armenia",
   "metadata": {},
   "outputs": [
    {
     "name": "stderr",
     "output_type": "stream",
     "text": [
      "[running kmeans]: 140it [00:19, 243.86it/s, center_shift=0.000067, iteration=140, tol=0.000100]"
     ]
    }
   ],
   "source": [
    "np.save(f'{output_folder}/{dataset_name}_kmeans_cluster_ids.npy', cluster_ids_x)"
   ]
  }
 ],
 "metadata": {
  "kernelspec": {
   "display_name": "Python 3",
   "language": "python",
   "name": "python3"
  },
  "language_info": {
   "codemirror_mode": {
    "name": "ipython",
    "version": 3
   },
   "file_extension": ".py",
   "mimetype": "text/x-python",
   "name": "python",
   "nbconvert_exporter": "python",
   "pygments_lexer": "ipython3",
   "version": "3.8.8"
  }
 },
 "nbformat": 4,
 "nbformat_minor": 5
}
