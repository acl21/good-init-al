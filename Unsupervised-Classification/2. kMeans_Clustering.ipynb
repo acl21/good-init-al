{
 "cells": [
  {
   "cell_type": "markdown",
   "id": "indie-distributor",
   "metadata": {},
   "source": [
    "### Set GPU"
   ]
  },
  {
   "cell_type": "code",
   "execution_count": 1,
   "id": "pleased-nepal",
   "metadata": {},
   "outputs": [],
   "source": [
    "import os\n",
    "os.environ['CUDA_VISIBLE_DEVICES'] = \"3\""
   ]
  },
  {
   "cell_type": "markdown",
   "id": "theoretical-flashing",
   "metadata": {},
   "source": [
    "### Set Dataset"
   ]
  },
  {
   "cell_type": "code",
   "execution_count": 2,
   "id": "stupid-decline",
   "metadata": {},
   "outputs": [],
   "source": [
    "dataset_name = 'CIFAR10'\n",
    "# dataset_name = 'CIFAR100'\n",
    "# dataset_name = 'MNIST'\n",
    "# dataset_name = 'TINYIMAGENET'"
   ]
  },
  {
   "cell_type": "markdown",
   "id": "positive-research",
   "metadata": {},
   "source": [
    "### Num Classes"
   ]
  },
  {
   "cell_type": "code",
   "execution_count": 3,
   "id": "quality-circle",
   "metadata": {},
   "outputs": [],
   "source": [
    "num_clusters = 10\n",
    "# num_clusters = 100\n",
    "# num_clusters = 200"
   ]
  },
  {
   "cell_type": "markdown",
   "id": "essential-maker",
   "metadata": {},
   "source": [
    "### Run All "
   ]
  },
  {
   "cell_type": "code",
   "execution_count": 4,
   "id": "widespread-advocate",
   "metadata": {},
   "outputs": [],
   "source": [
    "output_folder = '../results/'\n",
    "if dataset_name == \"CIFAR10\":\n",
    "    output_folder += 'cifar-10/'\n",
    "elif dataset_name == \"CIFAR100\":\n",
    "    output_folder += 'cifar-100/'\n",
    "elif dataset_name == \"MNIST\":\n",
    "    output_folder += 'mnist/'\n",
    "elif dataset_name == \"TINYIMAGENET\":\n",
    "    output_folder += 'tinyimagenet/'\n",
    "\n",
    "path_to_feat = f'{output_folder}/{dataset_name}_features128.npy'"
   ]
  },
  {
   "cell_type": "code",
   "execution_count": 5,
   "id": "tired-endorsement",
   "metadata": {},
   "outputs": [],
   "source": [
    "import torch\n",
    "import numpy as np\n",
    "from kmeans.kmeans_pytorch import kmeans"
   ]
  },
  {
   "cell_type": "code",
   "execution_count": 6,
   "id": "behind-invite",
   "metadata": {},
   "outputs": [],
   "source": [
    "# data\n",
    "x = np.load(path_to_feat)\n",
    "x = torch.from_numpy(x)"
   ]
  },
  {
   "cell_type": "code",
   "execution_count": 7,
   "id": "suffering-market",
   "metadata": {},
   "outputs": [
    {
     "name": "stdout",
     "output_type": "stream",
     "text": [
      "running k-means on cuda:0..\n"
     ]
    },
    {
     "name": "stderr",
     "output_type": "stream",
     "text": [
      "[running kmeans]: 72it [00:00, 143.29it/s, center_shift=0.000096, iteration=73, tol=0.000100]"
     ]
    }
   ],
   "source": [
    "# kmeans\n",
    "cluster_ids_x, cluster_centers = kmeans(\n",
    "    X=x, num_clusters=num_clusters, distance='euclidean', device=torch.device('cuda:0'))"
   ]
  },
  {
   "cell_type": "code",
   "execution_count": 8,
   "id": "polished-poland",
   "metadata": {},
   "outputs": [
    {
     "name": "stderr",
     "output_type": "stream",
     "text": [
      "[running kmeans]: 73it [00:04, 14.66it/s, center_shift=0.000096, iteration=73, tol=0.000100] \n"
     ]
    },
    {
     "data": {
      "text/plain": [
       "torch.Size([50000])"
      ]
     },
     "execution_count": 8,
     "metadata": {},
     "output_type": "execute_result"
    }
   ],
   "source": [
    "cluster_ids_x.shape"
   ]
  },
  {
   "cell_type": "code",
   "execution_count": 9,
   "id": "running-shower",
   "metadata": {},
   "outputs": [],
   "source": [
    "np.save(f'{output_folder}/{dataset_name}_kmeans_cluster_ids.npy', cluster_ids_x)"
   ]
  }
 ],
 "metadata": {
  "kernelspec": {
   "display_name": "Python 3",
   "language": "python",
   "name": "python3"
  },
  "language_info": {
   "codemirror_mode": {
    "name": "ipython",
    "version": 3
   },
   "file_extension": ".py",
   "mimetype": "text/x-python",
   "name": "python",
   "nbconvert_exporter": "python",
   "pygments_lexer": "ipython3",
   "version": "3.8.5"
  }
 },
 "nbformat": 4,
 "nbformat_minor": 5
}
