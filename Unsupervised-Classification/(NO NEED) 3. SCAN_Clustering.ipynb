{
 "cells": [
  {
   "cell_type": "markdown",
   "id": "complete-familiar",
   "metadata": {},
   "source": [
    "### Set GPU"
   ]
  },
  {
   "cell_type": "code",
   "execution_count": 1,
   "id": "blocked-vocabulary",
   "metadata": {},
   "outputs": [],
   "source": [
    "import os\n",
    "os.environ['CUDA_VISIBLE_DEVICES'] = \"3\""
   ]
  },
  {
   "cell_type": "markdown",
   "id": "velvet-audience",
   "metadata": {},
   "source": [
    "## Set Dataset Name"
   ]
  },
  {
   "cell_type": "code",
   "execution_count": 2,
   "id": "empirical-zambia",
   "metadata": {},
   "outputs": [],
   "source": [
    "dataset_name = 'CIFAR10'\n",
    "# dataset_name = 'CIFAR100'\n",
    "# dataset_name = 'MNIST'\n",
    "# dataset_name = 'TINYIMAGENET'"
   ]
  },
  {
   "cell_type": "markdown",
   "id": "restricted-soccer",
   "metadata": {},
   "source": [
    "### Run All Now"
   ]
  },
  {
   "cell_type": "code",
   "execution_count": 3,
   "id": "floppy-venice",
   "metadata": {},
   "outputs": [],
   "source": [
    "# from models.resnet_stl import resnet18\n",
    "import torch\n",
    "import numpy as np\n",
    "from tqdm import tqdm\n",
    "\n",
    "\n",
    "from collections import OrderedDict\n",
    "\n",
    "from models.resnet_cifar import resnet18\n",
    "from utils.memory import MemoryBank\n",
    "from utils.train_utils import simclr_train\n",
    "from utils.utils import fill_memory_bank\n",
    "from utils.config import create_config\n",
    "from utils.common_config import get_model, get_train_dataset, get_val_transformations, get_train_dataloader\n",
    "from utils.evaluate_utils import hungarian_evaluate2"
   ]
  },
  {
   "cell_type": "code",
   "execution_count": 4,
   "id": "remarkable-selection",
   "metadata": {},
   "outputs": [],
   "source": [
    "output_folder = '../results/'\n",
    "if dataset_name == \"CIFAR10\":\n",
    "    output_folder += 'cifar-10/'\n",
    "    config_exp_path = './configs/scan/scan_cifar10.yml'\n",
    "    cfg_path = '../configs/cifar10/train/RESNET18_ROT.yaml'\n",
    "elif dataset_name == \"CIFAR100\":\n",
    "    output_folder += 'cifar-100/'\n",
    "    config_exp_path = './configs/scan/scan_cifar20.yml'\n",
    "    cfg_path = '../configs/cifar100/train/RESNET18.yaml'\n",
    "elif dataset_name == \"MNIST\":\n",
    "    output_folder += 'mnist/'\n",
    "    config_exp_path = './configs/scan/scan_mnist.yml'\n",
    "    cfg_path = '../configs/mnist/train/RESNET18.yaml'\n",
    "elif dataset_name == \"TINYIMAGENET\":\n",
    "    output_folder += 'tinyimagenet/'\n",
    "    config_exp_path = './configs/scan/scan_tinyimagenet.yml'\n",
    "    cfg_path = '../configs/tinyimagenet/train/RESNET18.yaml'\n",
    "    \n",
    "path_to_model = output_folder + 'scan/model.pth.tar'\n",
    "\n",
    "temp = torch.load(path_to_model)['model']"
   ]
  },
  {
   "cell_type": "code",
   "execution_count": 5,
   "id": "looking-breathing",
   "metadata": {},
   "outputs": [],
   "source": [
    "import argparse\n",
    "\n",
    "config_env_path = './configs/env.yml'\n",
    "p = create_config(config_env_path, config_exp_path)"
   ]
  },
  {
   "cell_type": "code",
   "execution_count": 6,
   "id": "persistent-redhead",
   "metadata": {},
   "outputs": [],
   "source": [
    "model = get_model(p)\n",
    "model.load_state_dict(temp)\n",
    "model.eval()\n",
    "model.cuda();"
   ]
  },
  {
   "cell_type": "markdown",
   "id": "stock-audio",
   "metadata": {},
   "source": [
    "train_dataset = get_train_dataset(p, get_val_transformations(p),\n",
    "                                        split='train', to_augmented_dataset=False) \n",
    "train_dataloader = get_train_dataloader(p, train_dataset)"
   ]
  },
  {
   "cell_type": "markdown",
   "id": "julian-amsterdam",
   "metadata": {},
   "source": [
    "### Change batch size if you run into out of memory error "
   ]
  },
  {
   "cell_type": "code",
   "execution_count": 12,
   "id": "indian-brake",
   "metadata": {},
   "outputs": [
    {
     "name": "stdout",
     "output_type": "stream",
     "text": [
      "Preprocess Operations Selected ==>  [RandomResizedCrop(size=(64, 64), scale=(0.08, 1.0), ratio=(0.75, 1.3333), interpolation=PIL.Image.BILINEAR), ToTensor(), Normalize(mean=[0.4914, 0.4822, 0.4465], std=[0.247, 0.2435, 0.2616])]\n",
      "Files already downloaded and verified\n",
      "Files already downloaded and verified\n"
     ]
    }
   ],
   "source": [
    "from pycls.datasets.data import Data\n",
    "from pycls.config import cfg\n",
    "cfg.merge_from_file(cfg_path)\n",
    "data_obj = Data(cfg)\n",
    "\n",
    "train_data, train_size = data_obj.getDataset(save_dir=cfg.DATASET.ROOT_DIR, isTrain=True, isDownload=True)\n",
    "trainSet = [i for i in range(train_size)]\n",
    "trainSet = np.array(trainSet, dtype=np.ndarray)\n",
    "train_dataloader = data_obj.getSequentialDataLoader(indexes=trainSet, batch_size=256, data=train_data)\n",
    "\n",
    "\n",
    "test_data, test_size = data_obj.getDataset(save_dir=cfg.DATASET.ROOT_DIR, isTrain=False, isDownload=True)\n",
    "test_dataloader = data_obj.getTestLoader(data=test_data, test_batch_size=cfg.TRAIN.BATCH_SIZE, seed_id=cfg.RNG_SEED)"
   ]
  },
  {
   "cell_type": "code",
   "execution_count": 8,
   "id": "unable-wholesale",
   "metadata": {},
   "outputs": [],
   "source": [
    "import torch.nn.functional as F\n",
    "\n",
    "@torch.no_grad()\n",
    "def get_predictions(p, dataloader, model, return_features=False):\n",
    "    # Make predictions on a dataset with neighbors\n",
    "    model.eval()\n",
    "    predictions = [[] for _ in range(p['num_heads'])]\n",
    "    probs = [[] for _ in range(p['num_heads'])]\n",
    "    targets = []\n",
    "    if return_features:\n",
    "        ft_dim = get_feature_dimensions_backbone(p)\n",
    "        features = torch.zeros((len(dataloader.sampler), ft_dim)).cuda()\n",
    "    \n",
    "    key_ = 'image'\n",
    "\n",
    "    ptr = 0\n",
    "    for imgages, lbl in tqdm(dataloader, desc=\"Extracting Self Label Predictions\"):\n",
    "        images = imgages.cuda()\n",
    "        output = model(images, forward_pass='default')\n",
    "        for i, output_i in enumerate(output):\n",
    "            predictions[i].append(torch.argmax(output_i, dim=1))\n",
    "        targets.append(lbl)\n",
    "\n",
    "    predictions = [torch.cat(pred_, dim = 0).cpu() for pred_ in predictions]\n",
    "    targets = torch.cat(targets, dim=0)\n",
    "\n",
    "    out = [{'predictions': pred_, 'targets': targets} for pred_, prob_ in zip(predictions, probs)]\n",
    "\n",
    "    if return_features:\n",
    "        return out, features.cpu()\n",
    "    else:\n",
    "        return out"
   ]
  },
  {
   "cell_type": "code",
   "execution_count": 16,
   "id": "approximate-borough",
   "metadata": {},
   "outputs": [
    {
     "ename": "NameError",
     "evalue": "name 'train_loader' is not defined",
     "output_type": "error",
     "traceback": [
      "\u001b[0;31m---------------------------------------------------------------------------\u001b[0m",
      "\u001b[0;31mNameError\u001b[0m                                 Traceback (most recent call last)",
      "\u001b[0;32m<ipython-input-16-c6ea54c145d3>\u001b[0m in \u001b[0;36m<module>\u001b[0;34m\u001b[0m\n\u001b[0;32m----> 1\u001b[0;31m \u001b[0mpredictions\u001b[0m \u001b[0;34m=\u001b[0m \u001b[0mget_predictions\u001b[0m\u001b[0;34m(\u001b[0m\u001b[0mp\u001b[0m\u001b[0;34m,\u001b[0m \u001b[0mtrain_loader\u001b[0m\u001b[0;34m,\u001b[0m \u001b[0mmodel\u001b[0m\u001b[0;34m)\u001b[0m\u001b[0;34m\u001b[0m\u001b[0;34m\u001b[0m\u001b[0m\n\u001b[0m",
      "\u001b[0;31mNameError\u001b[0m: name 'train_loader' is not defined"
     ]
    }
   ],
   "source": [
    "predictions = get_predictions(p, train_dataloader, model)"
   ]
  },
  {
   "cell_type": "code",
   "execution_count": 14,
   "id": "mobile-opera",
   "metadata": {},
   "outputs": [],
   "source": [
    "clustering_stats = hungarian_evaluate2(0, predictions, \n",
    "                                class_names=train_data.classes,\n",
    "                                compute_confusion_matrix=True,\n",
    "                                confusion_matrix_file=os.path.join('confusion_matrix.png'))"
   ]
  },
  {
   "cell_type": "code",
   "execution_count": 15,
   "id": "comfortable-brown",
   "metadata": {},
   "outputs": [
    {
     "data": {
      "text/plain": [
       "{'ACC': 0.775,\n",
       " 'ARI': 0.5978233137193306,\n",
       " 'NMI': 0.6583452649008921,\n",
       " 'hungarian_match': [(0, 5),\n",
       "  (1, 7),\n",
       "  (2, 6),\n",
       "  (3, 8),\n",
       "  (4, 2),\n",
       "  (5, 9),\n",
       "  (6, 3),\n",
       "  (7, 4),\n",
       "  (8, 0),\n",
       "  (9, 1)]}"
      ]
     },
     "execution_count": 15,
     "metadata": {},
     "output_type": "execute_result"
    }
   ],
   "source": [
    "clustering_stats"
   ]
  },
  {
   "cell_type": "code",
   "execution_count": 11,
   "id": "alike-stevens",
   "metadata": {},
   "outputs": [
    {
     "data": {
      "text/plain": [
       "torch.Size([50000])"
      ]
     },
     "execution_count": 11,
     "metadata": {},
     "output_type": "execute_result"
    }
   ],
   "source": [
    "predictions[0]['predictions'].shape\n",
    "predictions[0]['targets'].shape"
   ]
  },
  {
   "cell_type": "markdown",
   "id": "overhead-reservoir",
   "metadata": {},
   "source": [
    "np.save(f'{output_folder}/{dataset_name}_features1{features.shape[1]}.npy', features)"
   ]
  },
  {
   "cell_type": "code",
   "execution_count": 17,
   "id": "demanding-bathroom",
   "metadata": {},
   "outputs": [
    {
     "data": {
      "text/plain": [
       "tensor([6, 5, 8, 7, 8, 9, 6, 8, 8, 0])"
      ]
     },
     "execution_count": 17,
     "metadata": {},
     "output_type": "execute_result"
    }
   ],
   "source": [
    "predictions[0]['predictions'][0:10]"
   ]
  },
  {
   "cell_type": "code",
   "execution_count": 18,
   "id": "heavy-ceiling",
   "metadata": {},
   "outputs": [
    {
     "data": {
      "text/plain": [
       "tensor([6, 9, 9, 4, 1, 1, 2, 7, 8, 3])"
      ]
     },
     "execution_count": 18,
     "metadata": {},
     "output_type": "execute_result"
    }
   ],
   "source": [
    "predictions[0]['targets'][0:10]"
   ]
  },
  {
   "cell_type": "code",
   "execution_count": 30,
   "id": "hybrid-house",
   "metadata": {},
   "outputs": [],
   "source": [
    "idx6 = [1 if x==6 else 0 for idx, x in enumerate(predictions[0]['predictions'])]"
   ]
  },
  {
   "cell_type": "code",
   "execution_count": 31,
   "id": "literary-botswana",
   "metadata": {},
   "outputs": [],
   "source": [
    "idx2 = [1 if x==2 else 0 for idx, x in enumerate(predictions[0]['targets'])]"
   ]
  },
  {
   "cell_type": "code",
   "execution_count": 41,
   "id": "competitive-nightlife",
   "metadata": {},
   "outputs": [
    {
     "data": {
      "text/plain": [
       "372"
      ]
     },
     "execution_count": 41,
     "metadata": {},
     "output_type": "execute_result"
    }
   ],
   "source": [
    "sum([1 if x==idx2[idx]==1 else 0 for idx, x in enumerate(idx6)])"
   ]
  },
  {
   "cell_type": "code",
   "execution_count": null,
   "id": "occasional-prerequisite",
   "metadata": {},
   "outputs": [],
   "source": []
  }
 ],
 "metadata": {
  "kernelspec": {
   "display_name": "Python 3",
   "language": "python",
   "name": "python3"
  },
  "language_info": {
   "codemirror_mode": {
    "name": "ipython",
    "version": 3
   },
   "file_extension": ".py",
   "mimetype": "text/x-python",
   "name": "python",
   "nbconvert_exporter": "python",
   "pygments_lexer": "ipython3",
   "version": "3.8.5"
  }
 },
 "nbformat": 4,
 "nbformat_minor": 5
}
